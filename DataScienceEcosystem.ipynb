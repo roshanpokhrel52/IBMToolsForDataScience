{
 "cells": [
  {
   "cell_type": "markdown",
   "id": "98218624",
   "metadata": {},
   "source": [
    "# Data Science Tools and Ecosystem"
   ]
  },
  {
   "cell_type": "markdown",
   "id": "ae4dc68d",
   "metadata": {},
   "source": [
    "In this notebook, Data Science Tools and Ecosystem are summerized. "
   ]
  },
  {
   "cell_type": "markdown",
   "id": "c5efdc32",
   "metadata": {},
   "source": [
    "**Objective**  \n",
    " - Popular Data Science Languages  \n",
    " - Common Data Science Libraries  \n",
    " - Data Science Development Environment Tools  \n",
    " - Some arithmetic expression  "
   ]
  },
  {
   "cell_type": "markdown",
   "id": "b83da504",
   "metadata": {},
   "source": [
    "Some of the popular languages that Data Scientist use are: \n",
    "1. Python\n",
    "2. R\n",
    "3. SQL\n",
    "4. Scala\n",
    "5. Julia\n",
    "6. Java\n"
   ]
  },
  {
   "cell_type": "markdown",
   "id": "bbf7ba3c",
   "metadata": {},
   "source": [
    "Some of the commonly used libraries used by Data Scientists include: \n",
    "1. Pandas\n",
    "2. Matplotlib\n",
    "3. Scikit-learn\n",
    "4. NumPy\n",
    "5. Seaborn\n",
    "6. TensorFlow"
   ]
  },
  {
   "cell_type": "markdown",
   "id": "0758c70c",
   "metadata": {},
   "source": [
    "| Data Science Tools | \n",
    "|--------------------|\n",
    "| Jupyter|\n",
    "| RStudio|\n",
    "| Spyder |\n",
    "| Apache Zeppelin |\n"
   ]
  },
  {
   "cell_type": "markdown",
   "id": "701dd061",
   "metadata": {},
   "source": [
    "### Below are a few examples of evaluating arithmetic expressions in Python."
   ]
  },
  {
   "cell_type": "code",
   "execution_count": 11,
   "id": "c3717316",
   "metadata": {},
   "outputs": [
    {
     "data": {
      "text/plain": [
       "17"
      ]
     },
     "execution_count": 11,
     "metadata": {},
     "output_type": "execute_result"
    }
   ],
   "source": [
    "#This is asimple arithmetic expression to multiply then add integers. \n",
    "(3*4)+5"
   ]
  },
  {
   "cell_type": "code",
   "execution_count": 12,
   "id": "e7191118",
   "metadata": {},
   "outputs": [
    {
     "data": {
      "text/plain": [
       "3.3333333333333335"
      ]
     },
     "execution_count": 12,
     "metadata": {},
     "output_type": "execute_result"
    }
   ],
   "source": [
    "#This will convrt 200 minutes to hours by dividing by 60. \n",
    "200/60"
   ]
  },
  {
   "cell_type": "markdown",
   "id": "6aba38a5",
   "metadata": {},
   "source": [
    "## Author\n",
    "Roshan Pokhrel"
   ]
  },
  {
   "cell_type": "code",
   "execution_count": null,
   "id": "7154932c",
   "metadata": {},
   "outputs": [],
   "source": []
  }
 ],
 "metadata": {
  "kernelspec": {
   "display_name": "Python 3 (ipykernel)",
   "language": "python",
   "name": "python3"
  },
  "language_info": {
   "codemirror_mode": {
    "name": "ipython",
    "version": 3
   },
   "file_extension": ".py",
   "mimetype": "text/x-python",
   "name": "python",
   "nbconvert_exporter": "python",
   "pygments_lexer": "ipython3",
   "version": "3.11.7"
  }
 },
 "nbformat": 4,
 "nbformat_minor": 5
}
